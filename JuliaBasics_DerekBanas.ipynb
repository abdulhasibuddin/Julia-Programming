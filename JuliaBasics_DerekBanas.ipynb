{
 "cells": [
  {
   "cell_type": "raw",
   "metadata": {},
   "source": [
    "# Install package language-julia on Atom\n",
    "# julia julia-tut.jl to execute in terminal"
   ]
  },
  {
   "cell_type": "code",
   "execution_count": 1,
   "metadata": {},
   "outputs": [],
   "source": [
    "# Imported modules\n",
    "using Printf # Needed to use printf\n",
    "using Statistics"
   ]
  },
  {
   "cell_type": "raw",
   "metadata": {},
   "source": [
    "# ----- VARIABLES -----\n",
    "# Types are dynamically assigned and can be changed\n",
    "# Variables start with _, letters and then numbers, or !"
   ]
  },
  {
   "cell_type": "code",
   "execution_count": 2,
   "metadata": {},
   "outputs": [
    {
     "name": "stdout",
     "output_type": "stream",
     "text": [
      "Dog\n"
     ]
    }
   ],
   "source": [
    "s = 0\n",
    "s = \"Dog\"\n",
    "println(s)"
   ]
  },
  {
   "cell_type": "raw",
   "metadata": {},
   "source": [
    "# ----- DATA TYPES -----\n",
    "# You can assert a datatype and an error would be thrown\n",
    "# if you tried to assign an incorrect value"
   ]
  },
  {
   "cell_type": "code",
   "execution_count": 3,
   "metadata": {},
   "outputs": [
    {
     "data": {
      "text/plain": [
       "true"
      ]
     },
     "execution_count": 3,
     "metadata": {},
     "output_type": "execute_result"
    }
   ],
   "source": [
    "#function changeNum()\n",
    "#    x::Int8 = 10\n",
    "#    x = \"Dog\"\n",
    "#end\n",
    "#changeNum()\n",
    "# Bool : true or false\n",
    "canDrive = true"
   ]
  },
  {
   "cell_type": "raw",
   "metadata": {},
   "source": [
    "# Int8 : -128 - 127\n",
    "# Int16 : −32,768 - 32,767\n",
    "# Int32 : −2,147,483,648 - 2,147,483,647\n",
    "# Int64 : −2^63 - 2^63 - 1\n",
    "# Float32, Float64, UInt8, UInt16, etc.\n",
    "\n",
    "# Float addition is accurate to about 14 digits\n",
    "# get_bigfloat_precision() in the REPL says\n",
    "# that BigFloats are by default accurate to\n",
    "# 256 bits\n",
    "# We can increase the precision with BigFloats\n",
    "# Also there is BigInt"
   ]
  },
  {
   "cell_type": "code",
   "execution_count": 4,
   "metadata": {},
   "outputs": [
    {
     "name": "stdout",
     "output_type": "stream",
     "text": [
      "1.2222222222222219\n"
     ]
    }
   ],
   "source": [
    "bF = 1.111111111111111\n",
    "println(bF + 0.111111111111111)"
   ]
  },
  {
   "cell_type": "raw",
   "metadata": {},
   "source": [
    "# Chars store any UTF-8 unicode character"
   ]
  },
  {
   "cell_type": "code",
   "execution_count": 5,
   "metadata": {},
   "outputs": [
    {
     "data": {
      "text/plain": [
       "'A': ASCII/Unicode U+0041 (category Lu: Letter, uppercase)"
      ]
     },
     "execution_count": 5,
     "metadata": {},
     "output_type": "execute_result"
    }
   ],
   "source": [
    "c1 = 'A'"
   ]
  },
  {
   "cell_type": "raw",
   "metadata": {},
   "source": [
    "# ----- CASTING -----"
   ]
  },
  {
   "cell_type": "code",
   "execution_count": 6,
   "metadata": {},
   "outputs": [
    {
     "name": "stdout",
     "output_type": "stream",
     "text": [
      "x\n"
     ]
    }
   ],
   "source": [
    "# Cast from Int to Char\n",
    "c2 = Char(120)\n",
    "println(c2)"
   ]
  },
  {
   "cell_type": "code",
   "execution_count": 7,
   "metadata": {},
   "outputs": [
    {
     "name": "stdout",
     "output_type": "stream",
     "text": [
      "3\n"
     ]
    }
   ],
   "source": [
    "# Cast from Float to Int\n",
    "i1 = UInt8(trunc(3.14))\n",
    "println(i1)"
   ]
  },
  {
   "cell_type": "code",
   "execution_count": 8,
   "metadata": {},
   "outputs": [
    {
     "name": "stdout",
     "output_type": "stream",
     "text": [
      "1.0\n"
     ]
    }
   ],
   "source": [
    "# Cast string to Float\n",
    "f1 = parse(Float64,\"1\")\n",
    "println(f1)"
   ]
  },
  {
   "cell_type": "code",
   "execution_count": 9,
   "metadata": {},
   "outputs": [
    {
     "name": "stdout",
     "output_type": "stream",
     "text": [
      "1\n"
     ]
    }
   ],
   "source": [
    "# Cast string to Int\n",
    "i2 = parse(Int8,\"1\")\n",
    "println(i2)"
   ]
  },
  {
   "cell_type": "raw",
   "metadata": {},
   "source": [
    "# ----- STRINGS -----"
   ]
  },
  {
   "cell_type": "code",
   "execution_count": 10,
   "metadata": {},
   "outputs": [
    {
     "data": {
      "text/plain": [
       "\"Just some random words\\n\""
      ]
     },
     "execution_count": 10,
     "metadata": {},
     "output_type": "execute_result"
    }
   ],
   "source": [
    "s1 = \"Just some random words\\n\""
   ]
  },
  {
   "cell_type": "code",
   "execution_count": 11,
   "metadata": {},
   "outputs": [
    {
     "name": "stdout",
     "output_type": "stream",
     "text": [
      "23\n"
     ]
    }
   ],
   "source": [
    "# Size of string\n",
    "println(length(s1))"
   ]
  },
  {
   "cell_type": "code",
   "execution_count": 12,
   "metadata": {},
   "outputs": [
    {
     "name": "stdout",
     "output_type": "stream",
     "text": [
      "J\n"
     ]
    }
   ],
   "source": [
    "# The 1st index is at 1\n",
    "println(s1[1])"
   ]
  },
  {
   "cell_type": "code",
   "execution_count": 13,
   "metadata": {},
   "outputs": [
    {
     "name": "stdout",
     "output_type": "stream",
     "text": [
      "\n",
      "\n"
     ]
    }
   ],
   "source": [
    "# Get last character\n",
    "println(s1[end])"
   ]
  },
  {
   "cell_type": "code",
   "execution_count": 14,
   "metadata": {},
   "outputs": [
    {
     "name": "stdout",
     "output_type": "stream",
     "text": [
      "Just\n"
     ]
    }
   ],
   "source": [
    "# Get a range\n",
    "println(s1[1:4])"
   ]
  },
  {
   "cell_type": "raw",
   "metadata": {},
   "source": [
    "# Concatenation"
   ]
  },
  {
   "cell_type": "code",
   "execution_count": 15,
   "metadata": {},
   "outputs": [
    {
     "name": "stdout",
     "output_type": "stream",
     "text": [
      "Yukiteru Amano\n",
      "Yuno Gasai\n"
     ]
    }
   ],
   "source": [
    "s2 = string(\"Yukiteru\", \" Amano\")\n",
    "println(s2)\n",
    "# And\n",
    "println(\"Yuno\" * \" Gasai\")"
   ]
  },
  {
   "cell_type": "raw",
   "metadata": {},
   "source": [
    "# Multiline strings"
   ]
  },
  {
   "cell_type": "code",
   "execution_count": 16,
   "metadata": {},
   "outputs": [
    {
     "name": "stdout",
     "output_type": "stream",
     "text": [
      "I\n",
      "have\n",
      "many\n",
      "lines\n"
     ]
    }
   ],
   "source": [
    "s3 = \"\"\"I\n",
    "have\n",
    "many\n",
    "lines\"\"\"\n",
    "println(s3)"
   ]
  },
  {
   "cell_type": "raw",
   "metadata": {},
   "source": [
    "# String comparisons with == > < !="
   ]
  },
  {
   "cell_type": "code",
   "execution_count": 17,
   "metadata": {},
   "outputs": [
    {
     "name": "stdout",
     "output_type": "stream",
     "text": [
      "true\n"
     ]
    }
   ],
   "source": [
    "println(\"Takao\" > \"Hiyama\")"
   ]
  },
  {
   "cell_type": "raw",
   "metadata": {},
   "source": [
    "# Find index for character"
   ]
  },
  {
   "cell_type": "code",
   "execution_count": 18,
   "metadata": {},
   "outputs": [
    {
     "name": "stdout",
     "output_type": "stream",
     "text": [
      "3\n"
     ]
    }
   ],
   "source": [
    "println(findfirst(isequal('i'), \"Keigo\"))"
   ]
  },
  {
   "cell_type": "raw",
   "metadata": {},
   "source": [
    "# Find a substring"
   ]
  },
  {
   "cell_type": "code",
   "execution_count": 19,
   "metadata": {},
   "outputs": [
    {
     "name": "stdout",
     "output_type": "stream",
     "text": [
      "true\n"
     ]
    }
   ],
   "source": [
    "println(occursin(\"key\", \"monkey\"))"
   ]
  },
  {
   "cell_type": "raw",
   "metadata": {},
   "source": [
    "# Interpolation"
   ]
  },
  {
   "cell_type": "code",
   "execution_count": 20,
   "metadata": {},
   "outputs": [
    {
     "name": "stdout",
     "output_type": "stream",
     "text": [
      "2 + 3 = 5\n"
     ]
    }
   ],
   "source": [
    "i3 = 2\n",
    "i4 = 3\n",
    "println(\"$i3 + $i4 = $(i3 + i4)\")"
   ]
  },
  {
   "cell_type": "raw",
   "metadata": {},
   "source": [
    "# ----- CONDITIONALS -----"
   ]
  },
  {
   "cell_type": "code",
   "execution_count": 21,
   "metadata": {},
   "outputs": [
    {
     "name": "stdout",
     "output_type": "stream",
     "text": [
      "You're in Middle School\n"
     ]
    }
   ],
   "source": [
    "age = 12\n",
    "if age >= 5 && age <= 6\n",
    "    println(\"You're in Kindergarten\")\n",
    "elseif age >= 7 && age <= 13\n",
    "    println(\"You're in Middle School\")\n",
    "elseif age >= 14 && age <= 18\n",
    "    println(\"You're in High School\")\n",
    "else\n",
    "    println(\"Stay Home\")\n",
    "end"
   ]
  },
  {
   "cell_type": "code",
   "execution_count": 22,
   "metadata": {},
   "outputs": [
    {
     "name": "stdout",
     "output_type": "stream",
     "text": [
      "true || false = true\n",
      "!true = false\n",
      "Can I drive : true\n"
     ]
    }
   ],
   "source": [
    "@printf(\"true || false = %s\\n\", true || false ? \"true\" : \"false\")\n",
    "@printf(\"!true = %s\\n\", !true ? \"true\" : \"false\")\n",
    "\n",
    "age = 55\n",
    "@printf(\"Can I drive : %s\\n\", age > 16 ? \"true\" : \"false\")"
   ]
  },
  {
   "cell_type": "raw",
   "metadata": {},
   "source": [
    "# ----- LOOPING -----"
   ]
  },
  {
   "cell_type": "code",
   "execution_count": 23,
   "metadata": {},
   "outputs": [
    {
     "name": "stdout",
     "output_type": "stream",
     "text": [
      "2\n",
      "4\n",
      "6\n",
      "8\n"
     ]
    }
   ],
   "source": [
    "i = 1\n",
    "\n",
    "while i < 20\n",
    "    if (i % 2) == 0\n",
    "        println(i)\n",
    "        global i += 1\n",
    "        continue # Skip the rest of the code in the loop\n",
    "    end\n",
    "\n",
    "    # Make the code use the global i\n",
    "    global i += 1\n",
    "\n",
    "    if i >= 10\n",
    "        break # Jump out of the loop\n",
    "    end\n",
    "end"
   ]
  },
  {
   "cell_type": "raw",
   "metadata": {},
   "source": [
    "# Using a range with for"
   ]
  },
  {
   "cell_type": "code",
   "execution_count": 24,
   "metadata": {},
   "outputs": [
    {
     "name": "stdout",
     "output_type": "stream",
     "text": [
      "1\n",
      "2\n",
      "3\n",
      "4\n",
      "5\n"
     ]
    }
   ],
   "source": [
    "for i = 1:5\n",
    "    println(i)\n",
    "end"
   ]
  },
  {
   "cell_type": "code",
   "execution_count": 25,
   "metadata": {},
   "outputs": [
    {
     "name": "stdout",
     "output_type": "stream",
     "text": [
      "2\n",
      "4\n",
      "6\n"
     ]
    }
   ],
   "source": [
    "# Using an array\n",
    "for i in [2,4,6]\n",
    "    println(i)\n",
    "end"
   ]
  },
  {
   "cell_type": "code",
   "execution_count": 26,
   "metadata": {},
   "outputs": [
    {
     "name": "stdout",
     "output_type": "stream",
     "text": [
      "(1, 2)\n",
      "(1, 4)\n",
      "(1, 6)\n",
      "(1, 8)\n",
      "(1, 10)\n",
      "(2, 2)\n",
      "(2, 4)\n",
      "(2, 6)\n",
      "(2, 8)\n",
      "(2, 10)\n",
      "(3, 2)\n",
      "(3, 4)\n",
      "(3, 6)\n",
      "(3, 8)\n",
      "(3, 10)\n",
      "(4, 2)\n",
      "(4, 4)\n",
      "(4, 6)\n",
      "(4, 8)\n",
      "(4, 10)\n",
      "(5, 2)\n",
      "(5, 4)\n",
      "(5, 6)\n",
      "(5, 8)\n",
      "(5, 10)\n"
     ]
    }
   ],
   "source": [
    "# Loop while iterating multiple variables\n",
    "# The 2nd value in the j range is the step\n",
    "for i = 1:5, j = 2:2:10\n",
    "    println((i, j))\n",
    "end"
   ]
  },
  {
   "cell_type": "raw",
   "metadata": {},
   "source": [
    "# ----- ARRAYS -----"
   ]
  },
  {
   "cell_type": "code",
   "execution_count": 27,
   "metadata": {},
   "outputs": [
    {
     "data": {
      "text/plain": [
       "2×2 Array{Int32,2}:\n",
       " 0  0\n",
       " 0  0"
      ]
     },
     "execution_count": 27,
     "metadata": {},
     "output_type": "execute_result"
    }
   ],
   "source": [
    "# Create an array of zeros\n",
    "a1 = zeros(Int32, 2, 2)"
   ]
  },
  {
   "cell_type": "code",
   "execution_count": 28,
   "metadata": {},
   "outputs": [
    {
     "data": {
      "text/plain": [
       "5-element Array{Int32,1}:\n",
       " 234824000\n",
       "         0\n",
       " 234824064\n",
       "         0\n",
       " 234824128"
      ]
     },
     "execution_count": 28,
     "metadata": {},
     "output_type": "execute_result"
    }
   ],
   "source": [
    "# Create array of Int32s\n",
    "a2 = Array{Int32}(undef, 5)"
   ]
  },
  {
   "cell_type": "code",
   "execution_count": 29,
   "metadata": {},
   "outputs": [
    {
     "data": {
      "text/plain": [
       "0-element Array{Float64,1}"
      ]
     },
     "execution_count": 29,
     "metadata": {},
     "output_type": "execute_result"
    }
   ],
   "source": [
    "# Or like this\n",
    "a3 = Float64[]"
   ]
  },
  {
   "cell_type": "code",
   "execution_count": 30,
   "metadata": {},
   "outputs": [
    {
     "data": {
      "text/plain": [
       "3-element Array{Int64,1}:\n",
       " 1\n",
       " 2\n",
       " 3"
      ]
     },
     "execution_count": 30,
     "metadata": {},
     "output_type": "execute_result"
    }
   ],
   "source": [
    "# Create an array\n",
    "a4 = [1,2,3]"
   ]
  },
  {
   "cell_type": "code",
   "execution_count": 31,
   "metadata": {},
   "outputs": [
    {
     "name": "stdout",
     "output_type": "stream",
     "text": [
      "1\n"
     ]
    }
   ],
   "source": [
    "# Get value at index\n",
    "println(a4[1])"
   ]
  },
  {
   "cell_type": "code",
   "execution_count": 32,
   "metadata": {},
   "outputs": [
    {
     "name": "stdout",
     "output_type": "stream",
     "text": [
      "3\n"
     ]
    }
   ],
   "source": [
    "# Get last value\n",
    "println(a4[end])"
   ]
  },
  {
   "cell_type": "code",
   "execution_count": 33,
   "metadata": {},
   "outputs": [
    {
     "name": "stdout",
     "output_type": "stream",
     "text": [
      "false\n"
     ]
    }
   ],
   "source": [
    "# Check if value exists\n",
    "println(5 in a4)"
   ]
  },
  {
   "cell_type": "code",
   "execution_count": 34,
   "metadata": {},
   "outputs": [
    {
     "name": "stdout",
     "output_type": "stream",
     "text": [
      "2\n"
     ]
    }
   ],
   "source": [
    "# Get 1st index\n",
    "println(findfirst(isequal(2), a4))"
   ]
  },
  {
   "cell_type": "raw",
   "metadata": {},
   "source": [
    "# Find all matches using a generic function"
   ]
  },
  {
   "cell_type": "code",
   "execution_count": 35,
   "metadata": {},
   "outputs": [
    {
     "name": "stdout",
     "output_type": "stream",
     "text": [
      "[2, 3]\n"
     ]
    }
   ],
   "source": [
    "f(a) = (a >= 2) ? true : false\n",
    "println(findall(f, a4))"
   ]
  },
  {
   "cell_type": "code",
   "execution_count": 36,
   "metadata": {},
   "outputs": [
    {
     "name": "stdout",
     "output_type": "stream",
     "text": [
      "2\n"
     ]
    }
   ],
   "source": [
    "# How many items pass the test\n",
    "println(count(f, a4))"
   ]
  },
  {
   "cell_type": "code",
   "execution_count": 37,
   "metadata": {},
   "outputs": [
    {
     "name": "stdout",
     "output_type": "stream",
     "text": [
      "(3,)\n"
     ]
    }
   ],
   "source": [
    "# Get row and column size\n",
    "println(size(a4))"
   ]
  },
  {
   "cell_type": "code",
   "execution_count": 38,
   "metadata": {},
   "outputs": [
    {
     "name": "stdout",
     "output_type": "stream",
     "text": [
      "3\n"
     ]
    }
   ],
   "source": [
    "# Get number of elements\n",
    "println(length(a4))"
   ]
  },
  {
   "cell_type": "code",
   "execution_count": 39,
   "metadata": {},
   "outputs": [
    {
     "name": "stdout",
     "output_type": "stream",
     "text": [
      "6\n"
     ]
    }
   ],
   "source": [
    "# Sum values\n",
    "println(sum(a4))"
   ]
  },
  {
   "cell_type": "raw",
   "metadata": {},
   "source": [
    "# Put values starting at 2nd index"
   ]
  },
  {
   "cell_type": "code",
   "execution_count": 40,
   "metadata": {},
   "outputs": [
    {
     "name": "stdout",
     "output_type": "stream",
     "text": [
      "[1, 8, 9, 2, 3]\n"
     ]
    }
   ],
   "source": [
    "splice!(a4, 2:1, [8,9])\n",
    "println(a4)"
   ]
  },
  {
   "cell_type": "raw",
   "metadata": {},
   "source": [
    "# Remove items at index 2 through 3"
   ]
  },
  {
   "cell_type": "code",
   "execution_count": 41,
   "metadata": {},
   "outputs": [
    {
     "name": "stdout",
     "output_type": "stream",
     "text": [
      "[1, 2, 3]\n"
     ]
    }
   ],
   "source": [
    "splice!(a4, 2:3)\n",
    "println(a4)"
   ]
  },
  {
   "cell_type": "code",
   "execution_count": 42,
   "metadata": {},
   "outputs": [
    {
     "name": "stdout",
     "output_type": "stream",
     "text": [
      "3\n",
      "1\n"
     ]
    }
   ],
   "source": [
    "# Get max & min value\n",
    "println(maximum(a4))\n",
    "println(minimum(a4))"
   ]
  },
  {
   "cell_type": "raw",
   "metadata": {},
   "source": [
    "# Perform calculations on an array without looping"
   ]
  },
  {
   "cell_type": "code",
   "execution_count": 43,
   "metadata": {},
   "outputs": [
    {
     "name": "stdout",
     "output_type": "stream",
     "text": [
      "[2, 4, 6]\n"
     ]
    }
   ],
   "source": [
    "println(a4 * 2)"
   ]
  },
  {
   "cell_type": "raw",
   "metadata": {},
   "source": [
    "# You can use multiple types or Any"
   ]
  },
  {
   "cell_type": "code",
   "execution_count": 44,
   "metadata": {},
   "outputs": [
    {
     "data": {
      "text/plain": [
       "3-element Array{Any,1}:\n",
       " 1       \n",
       " 3.14    \n",
       "  \"Hello\""
      ]
     },
     "execution_count": 44,
     "metadata": {},
     "output_type": "execute_result"
    }
   ],
   "source": [
    "a5 = [1,3.14,\"Hello\"]"
   ]
  },
  {
   "cell_type": "code",
   "execution_count": 45,
   "metadata": {},
   "outputs": [],
   "source": [
    "# You can store functions"
   ]
  },
  {
   "cell_type": "code",
   "execution_count": 46,
   "metadata": {},
   "outputs": [
    {
     "name": "stdout",
     "output_type": "stream",
     "text": [
      "0.0\n",
      "1.0\n",
      "0.0\n"
     ]
    }
   ],
   "source": [
    "a6 = [sin, cos, tan]\n",
    "for n in a6\n",
    "    println(n(0))\n",
    "end"
   ]
  },
  {
   "cell_type": "raw",
   "metadata": {},
   "source": [
    "# Multidimensional array"
   ]
  },
  {
   "cell_type": "code",
   "execution_count": 47,
   "metadata": {},
   "outputs": [
    {
     "name": "stdout",
     "output_type": "stream",
     "text": [
      "1 2 3 4 5 6 \n"
     ]
    }
   ],
   "source": [
    "a7 = [1 2 3; 4 5 6]\n",
    "for n = 1:2, m = 1:3\n",
    "    @printf(\"%d \", a7[n,m])\n",
    "end\n",
    "println()"
   ]
  },
  {
   "cell_type": "raw",
   "metadata": {},
   "source": [
    "# Create a multidimensional array"
   ]
  },
  {
   "cell_type": "code",
   "execution_count": 48,
   "metadata": {},
   "outputs": [
    {
     "name": "stdout",
     "output_type": "stream",
     "text": [
      "[1 2 3 4 5; 2 4 6 8 10; 3 6 9 12 15; 4 8 12 16 20; 5 10 15 20 25]\n"
     ]
    }
   ],
   "source": [
    "a11 = [n * m for n in 1:5, m in 1:5]\n",
    "println(a11)"
   ]
  },
  {
   "cell_type": "raw",
   "metadata": {},
   "source": [
    "# Generate a 5 by 5 random array with values between 0 - 9"
   ]
  },
  {
   "cell_type": "code",
   "execution_count": 49,
   "metadata": {},
   "outputs": [
    {
     "name": "stdout",
     "output_type": "stream",
     "text": [
      "07514\n",
      "46744\n",
      "11244\n",
      "22867\n",
      "11772\n"
     ]
    }
   ],
   "source": [
    "a12 = rand(0:9, 5, 5)\n",
    "for n = 1:5\n",
    "    for m = 1:5\n",
    "        print(a12[n, m])\n",
    "    end\n",
    "    println()\n",
    "end"
   ]
  },
  {
   "cell_type": "raw",
   "metadata": {},
   "source": [
    "# Get every row in the 2nd column"
   ]
  },
  {
   "cell_type": "code",
   "execution_count": 50,
   "metadata": {},
   "outputs": [
    {
     "name": "stdout",
     "output_type": "stream",
     "text": [
      "[2, 5]\n"
     ]
    }
   ],
   "source": [
    "println(a7[:, 2])"
   ]
  },
  {
   "cell_type": "raw",
   "metadata": {},
   "source": [
    "# Every row 2nd column"
   ]
  },
  {
   "cell_type": "code",
   "execution_count": 51,
   "metadata": {},
   "outputs": [
    {
     "name": "stdout",
     "output_type": "stream",
     "text": [
      "[4, 5, 6]\n"
     ]
    }
   ],
   "source": [
    "println(a7[2, :])"
   ]
  },
  {
   "cell_type": "raw",
   "metadata": {},
   "source": [
    "# Array from a range"
   ]
  },
  {
   "cell_type": "code",
   "execution_count": 52,
   "metadata": {},
   "outputs": [
    {
     "data": {
      "text/plain": [
       "5-element Array{Int64,1}:\n",
       " 1\n",
       " 2\n",
       " 3\n",
       " 4\n",
       " 5"
      ]
     },
     "execution_count": 52,
     "metadata": {},
     "output_type": "execute_result"
    }
   ],
   "source": [
    "a8 = collect(1:5)"
   ]
  },
  {
   "cell_type": "raw",
   "metadata": {},
   "source": [
    "# Range with a step (step is 2nd value)\n",
    "# Or backward collect(4:-1:1)"
   ]
  },
  {
   "cell_type": "code",
   "execution_count": 53,
   "metadata": {},
   "outputs": [
    {
     "name": "stdout",
     "output_type": "stream",
     "text": [
      "246810\n"
     ]
    }
   ],
   "source": [
    "a9 = collect(2:2:10)\n",
    "for n in a9 print(n) end\n",
    "println()"
   ]
  },
  {
   "cell_type": "raw",
   "metadata": {},
   "source": [
    "# Create an array with a comprehension"
   ]
  },
  {
   "cell_type": "code",
   "execution_count": 54,
   "metadata": {},
   "outputs": [
    {
     "data": {
      "text/plain": [
       "5-element Array{Int64,1}:\n",
       "  1\n",
       "  4\n",
       "  9\n",
       " 16\n",
       " 25"
      ]
     },
     "execution_count": 54,
     "metadata": {},
     "output_type": "execute_result"
    }
   ],
   "source": [
    "a10 = [n^2 for n in 1:5]"
   ]
  },
  {
   "cell_type": "raw",
   "metadata": {},
   "source": [
    "# Add value to array"
   ]
  },
  {
   "cell_type": "code",
   "execution_count": 55,
   "metadata": {},
   "outputs": [
    {
     "name": "stdout",
     "output_type": "stream",
     "text": [
      "[1, 4, 9, 16, 25, 36]\n"
     ]
    }
   ],
   "source": [
    "push!(a10, 36)\n",
    "println(a10)"
   ]
  },
  {
   "cell_type": "raw",
   "metadata": {},
   "source": [
    "# ----- TUPLES -----\n",
    "# Most array functions work with Tuples except tuple\n",
    "# values cannot be changed"
   ]
  },
  {
   "cell_type": "code",
   "execution_count": 56,
   "metadata": {},
   "outputs": [
    {
     "name": "stdout",
     "output_type": "stream",
     "text": [
      "(1, 2, 3, 4)\n"
     ]
    }
   ],
   "source": [
    "t1 = (1,2,3,4)\n",
    "println(t1)"
   ]
  },
  {
   "cell_type": "code",
   "execution_count": 57,
   "metadata": {},
   "outputs": [
    {
     "name": "stdout",
     "output_type": "stream",
     "text": [
      "1\n"
     ]
    }
   ],
   "source": [
    "# Get a value\n",
    "println(t1[1])"
   ]
  },
  {
   "cell_type": "code",
   "execution_count": 58,
   "metadata": {},
   "outputs": [
    {
     "name": "stdout",
     "output_type": "stream",
     "text": [
      "1\n",
      "2\n",
      "3\n",
      "4\n"
     ]
    }
   ],
   "source": [
    "# Get all\n",
    "for i in t1\n",
    "    println(i)\n",
    "end"
   ]
  },
  {
   "cell_type": "raw",
   "metadata": {},
   "source": [
    "# Multidimensional tuple"
   ]
  },
  {
   "cell_type": "code",
   "execution_count": 59,
   "metadata": {},
   "outputs": [
    {
     "name": "stdout",
     "output_type": "stream",
     "text": [
      "1\n"
     ]
    }
   ],
   "source": [
    "t2 = ((1,2), (3,4))\n",
    "println(t2[1][1])"
   ]
  },
  {
   "cell_type": "raw",
   "metadata": {},
   "source": [
    "# Named tuple"
   ]
  },
  {
   "cell_type": "code",
   "execution_count": 60,
   "metadata": {},
   "outputs": [
    {
     "name": "stdout",
     "output_type": "stream",
     "text": [
      "(\"Sue\", 100)\n"
     ]
    }
   ],
   "source": [
    "t3 = (sue = (\"Sue\", 100), paul = (\"Paul\", 23))\n",
    "println(t3.sue)"
   ]
  },
  {
   "cell_type": "raw",
   "metadata": {},
   "source": [
    "# ----- DICTIONARIES -----\n",
    "# Dictionaries are key value (kv) pairs where the key moust be unique"
   ]
  },
  {
   "cell_type": "code",
   "execution_count": 61,
   "metadata": {},
   "outputs": [
    {
     "data": {
      "text/plain": [
       "Dict{String,Float64} with 2 entries:\n",
       "  \"e\"  => 2.718\n",
       "  \"pi\" => 3.14"
      ]
     },
     "execution_count": 61,
     "metadata": {},
     "output_type": "execute_result"
    }
   ],
   "source": [
    "d1 = Dict(\"pi\"=>3.14, \"e\"=>2.718)"
   ]
  },
  {
   "cell_type": "code",
   "execution_count": 62,
   "metadata": {},
   "outputs": [
    {
     "name": "stdout",
     "output_type": "stream",
     "text": [
      "3.14\n"
     ]
    }
   ],
   "source": [
    "# Get value\n",
    "println(d1[\"pi\"])"
   ]
  },
  {
   "cell_type": "code",
   "execution_count": 63,
   "metadata": {},
   "outputs": [
    {
     "data": {
      "text/plain": [
       "1.618"
      ]
     },
     "execution_count": 63,
     "metadata": {},
     "output_type": "execute_result"
    }
   ],
   "source": [
    "# Add a kv\n",
    "d1[\"golden\"] = 1.618"
   ]
  },
  {
   "cell_type": "code",
   "execution_count": 64,
   "metadata": {},
   "outputs": [
    {
     "data": {
      "text/plain": [
       "Dict{String,Float64} with 2 entries:\n",
       "  \"golden\" => 1.618\n",
       "  \"e\"      => 2.718"
      ]
     },
     "execution_count": 64,
     "metadata": {},
     "output_type": "execute_result"
    }
   ],
   "source": [
    "# Delete a kv\n",
    "delete!(d1, \"pi\")"
   ]
  },
  {
   "cell_type": "code",
   "execution_count": 65,
   "metadata": {},
   "outputs": [
    {
     "name": "stdout",
     "output_type": "stream",
     "text": [
      "false\n"
     ]
    }
   ],
   "source": [
    "# Check if key exists\n",
    "println(haskey(d1, \"pi\"))"
   ]
  },
  {
   "cell_type": "code",
   "execution_count": 66,
   "metadata": {},
   "outputs": [
    {
     "name": "stdout",
     "output_type": "stream",
     "text": [
      "Base.Fix2{typeof(in),Pair{String,Float64}}(in, \"pi\" => 3.14)\n"
     ]
    }
   ],
   "source": [
    "# Check for key & value\n",
    "println(in((\"pi\"=>3.14)))"
   ]
  },
  {
   "cell_type": "code",
   "execution_count": 67,
   "metadata": {},
   "outputs": [
    {
     "name": "stdout",
     "output_type": "stream",
     "text": [
      "[\"golden\", \"e\"]\n"
     ]
    }
   ],
   "source": [
    "# Display all keys\n",
    "println(keys(d1))"
   ]
  },
  {
   "cell_type": "code",
   "execution_count": 68,
   "metadata": {},
   "outputs": [
    {
     "name": "stdout",
     "output_type": "stream",
     "text": [
      "[1.618, 2.718]\n"
     ]
    }
   ],
   "source": [
    "# Display all values\n",
    "println(values(d1))"
   ]
  },
  {
   "cell_type": "code",
   "execution_count": 69,
   "metadata": {},
   "outputs": [
    {
     "name": "stdout",
     "output_type": "stream",
     "text": [
      "\"golden\" => 1.618\n",
      "\"e\" => 2.718\n"
     ]
    }
   ],
   "source": [
    "# Display both\n",
    "for kv in d1\n",
    "    println(kv)\n",
    "end"
   ]
  },
  {
   "cell_type": "code",
   "execution_count": 70,
   "metadata": {},
   "outputs": [
    {
     "name": "stdout",
     "output_type": "stream",
     "text": [
      "golden : 1.618\n",
      "e : 2.718\n"
     ]
    }
   ],
   "source": [
    "# Control display of kv\n",
    "for(key, value) in d1\n",
    "    println(key, \" : \", value)\n",
    "end"
   ]
  },
  {
   "cell_type": "raw",
   "metadata": {},
   "source": [
    "# ----- SETS -----\n",
    "# Sets are arrays with all unique values"
   ]
  },
  {
   "cell_type": "code",
   "execution_count": 71,
   "metadata": {},
   "outputs": [
    {
     "name": "stdout",
     "output_type": "stream",
     "text": [
      "Set([\"Pam\", \"Jim\"])\n"
     ]
    }
   ],
   "source": [
    "st1 = Set([\"Jim\", \"Pam\", \"Jim\"])\n",
    "println(st1)"
   ]
  },
  {
   "cell_type": "code",
   "execution_count": 72,
   "metadata": {},
   "outputs": [
    {
     "data": {
      "text/plain": [
       "Set([\"Pam\", \"Jim\", \"Michael\"])"
      ]
     },
     "execution_count": 72,
     "metadata": {},
     "output_type": "execute_result"
    }
   ],
   "source": [
    "# Add a value\n",
    "push!(st1, \"Michael\")"
   ]
  },
  {
   "cell_type": "code",
   "execution_count": 73,
   "metadata": {},
   "outputs": [
    {
     "name": "stdout",
     "output_type": "stream",
     "text": [
      "false\n"
     ]
    }
   ],
   "source": [
    "# Check for value\n",
    "println(in(\"Dwight\", st1))"
   ]
  },
  {
   "cell_type": "raw",
   "metadata": {},
   "source": [
    "# Combine sets"
   ]
  },
  {
   "cell_type": "code",
   "execution_count": 74,
   "metadata": {},
   "outputs": [
    {
     "name": "stdout",
     "output_type": "stream",
     "text": [
      "Set([\"Pam\", \"Stanley\", \"Jim\", \"Michael\", \"Meredith\"])\n"
     ]
    }
   ],
   "source": [
    "st2 = Set([\"Stanley\", \"Meredith\"])\n",
    "println(union(st1, st2))"
   ]
  },
  {
   "cell_type": "raw",
   "metadata": {},
   "source": [
    "# Every item both sets have"
   ]
  },
  {
   "cell_type": "code",
   "execution_count": 75,
   "metadata": {},
   "outputs": [
    {
     "name": "stdout",
     "output_type": "stream",
     "text": [
      "Set(String[])\n"
     ]
    }
   ],
   "source": [
    "println(intersect(st1, st2))"
   ]
  },
  {
   "cell_type": "raw",
   "metadata": {},
   "source": [
    "# Items in 1st, but not 2nd"
   ]
  },
  {
   "cell_type": "code",
   "execution_count": 76,
   "metadata": {},
   "outputs": [
    {
     "name": "stdout",
     "output_type": "stream",
     "text": [
      "Set([\"Pam\", \"Jim\", \"Michael\"])\n"
     ]
    }
   ],
   "source": [
    "println(setdiff(st1, st2))"
   ]
  },
  {
   "cell_type": "raw",
   "metadata": {},
   "source": [
    "# ----- FUNCTIONS -----"
   ]
  },
  {
   "cell_type": "code",
   "execution_count": 77,
   "metadata": {},
   "outputs": [
    {
     "name": "stdout",
     "output_type": "stream",
     "text": [
      "1 + 2 = 3\n"
     ]
    }
   ],
   "source": [
    "# This is a single expression function\n",
    "getSum(x,y) = x + y\n",
    "x, y = 1, 2\n",
    "@printf(\"%d + %d = %d\\n\", x, y, x+y)"
   ]
  },
  {
   "cell_type": "raw",
   "metadata": {},
   "source": [
    "# Multiple expression functions"
   ]
  },
  {
   "cell_type": "code",
   "execution_count": 78,
   "metadata": {},
   "outputs": [
    {
     "name": "stdout",
     "output_type": "stream",
     "text": [
      "Can Vote\n"
     ]
    }
   ],
   "source": [
    "# You can asign default values\n",
    "function canIVote(age=16)\n",
    "    if age > 18\n",
    "        println(\"Can Vote\")\n",
    "    else\n",
    "        println(\"Can't Vote\")\n",
    "    end\n",
    "end\n",
    "canIVote(43)"
   ]
  },
  {
   "cell_type": "raw",
   "metadata": {},
   "source": [
    "# Arguments"
   ]
  },
  {
   "cell_type": "code",
   "execution_count": 79,
   "metadata": {},
   "outputs": [
    {
     "name": "stdout",
     "output_type": "stream",
     "text": [
      "5\n"
     ]
    }
   ],
   "source": [
    "# Arguments are pass by value\n",
    "v1 = 5\n",
    "function changeV1(v1)\n",
    "    v1 = 10\n",
    "end\n",
    "changeV1(v1)\n",
    "println(v1)"
   ]
  },
  {
   "cell_type": "code",
   "execution_count": 80,
   "metadata": {},
   "outputs": [
    {
     "name": "stdout",
     "output_type": "stream",
     "text": [
      "10\n"
     ]
    }
   ],
   "source": [
    "# You can use globals inside functions\n",
    "function changeV12()\n",
    "    global v1 = 10\n",
    "end\n",
    "changeV12()\n",
    "println(v1)"
   ]
  },
  {
   "cell_type": "raw",
   "metadata": {},
   "source": [
    "# Variable arguments"
   ]
  },
  {
   "cell_type": "code",
   "execution_count": 81,
   "metadata": {},
   "outputs": [
    {
     "name": "stdout",
     "output_type": "stream",
     "text": [
      "10\n"
     ]
    }
   ],
   "source": [
    "function getSum2(args...)\n",
    "    sum = 0\n",
    "    for a in args\n",
    "        sum += a\n",
    "    end\n",
    "    println(sum)\n",
    "end\n",
    "getSum2(1,2,3,4)"
   ]
  },
  {
   "cell_type": "raw",
   "metadata": {},
   "source": [
    "# Return multiple values"
   ]
  },
  {
   "cell_type": "code",
   "execution_count": 82,
   "metadata": {},
   "outputs": [
    {
     "name": "stdout",
     "output_type": "stream",
     "text": [
      "(5, 6)\n"
     ]
    }
   ],
   "source": [
    "function next2(val)\n",
    "    return (val + 1, val + 2)\n",
    "end\n",
    "println(next2(4))"
   ]
  },
  {
   "cell_type": "raw",
   "metadata": {},
   "source": [
    "# Functions that return functions"
   ]
  },
  {
   "cell_type": "code",
   "execution_count": 83,
   "metadata": {},
   "outputs": [
    {
     "data": {
      "text/plain": [
       "makeMultiplier (generic function with 1 method)"
      ]
     },
     "execution_count": 83,
     "metadata": {},
     "output_type": "execute_result"
    }
   ],
   "source": [
    "function makeMultiplier(num)\n",
    "    return function (x) return x * num end\n",
    "end"
   ]
  },
  {
   "cell_type": "code",
   "execution_count": 84,
   "metadata": {},
   "outputs": [
    {
     "name": "stdout",
     "output_type": "stream",
     "text": [
      "18\n"
     ]
    }
   ],
   "source": [
    "mult3 = makeMultiplier(3)\n",
    "println(mult3(6))"
   ]
  },
  {
   "cell_type": "raw",
   "metadata": {},
   "source": [
    "# Handle different types of arguments"
   ]
  },
  {
   "cell_type": "code",
   "execution_count": 85,
   "metadata": {},
   "outputs": [
    {
     "data": {
      "text/plain": [
       "getSum3 (generic function with 1 method)"
      ]
     },
     "execution_count": 85,
     "metadata": {},
     "output_type": "execute_result"
    }
   ],
   "source": [
    "function getSum3(num1::Number, num2::Number)\n",
    "    return num1 + num2\n",
    "end"
   ]
  },
  {
   "cell_type": "code",
   "execution_count": 86,
   "metadata": {},
   "outputs": [
    {
     "data": {
      "text/plain": [
       "getSum3 (generic function with 2 methods)"
      ]
     },
     "execution_count": 86,
     "metadata": {},
     "output_type": "execute_result"
    }
   ],
   "source": [
    "function getSum3(num1::String, num2::String)\n",
    "    return parse(Int32, num1) + parse(Int32, num2)\n",
    "end"
   ]
  },
  {
   "cell_type": "code",
   "execution_count": 87,
   "metadata": {},
   "outputs": [
    {
     "data": {
      "text/plain": [
       "1.0"
      ]
     },
     "execution_count": 87,
     "metadata": {},
     "output_type": "execute_result"
    }
   ],
   "source": [
    "f1 = parse(Float64,\"1\")"
   ]
  },
  {
   "cell_type": "code",
   "execution_count": 88,
   "metadata": {},
   "outputs": [
    {
     "name": "stdout",
     "output_type": "stream",
     "text": [
      "5 + 4 = 9\n",
      "5 + 4 = 9\n"
     ]
    }
   ],
   "source": [
    "println(\"5 + 4 = \", getSum3(5,4))\n",
    "println(\"5 + 4 = \", getSum3(\"5\",\"4\"))"
   ]
  },
  {
   "cell_type": "raw",
   "metadata": {},
   "source": [
    "# ----- ANONYMOUS FUNCTIONS -----\n",
    "# Functions with no name that are used inline\n",
    "# Map applies a function to each item"
   ]
  },
  {
   "cell_type": "code",
   "execution_count": 89,
   "metadata": {},
   "outputs": [
    {
     "name": "stdout",
     "output_type": "stream",
     "text": [
      "[1, 4, 9]\n"
     ]
    }
   ],
   "source": [
    "v2 = map(x -> x * x, [1,2,3])\n",
    "println(v2)"
   ]
  },
  {
   "cell_type": "code",
   "execution_count": 90,
   "metadata": {},
   "outputs": [
    {
     "name": "stdout",
     "output_type": "stream",
     "text": [
      "[4, 6]\n"
     ]
    }
   ],
   "source": [
    "# Add arrays\n",
    "v3 = map((x,y) -> x + y, [1,2], [3,4])\n",
    "println(v3)"
   ]
  },
  {
   "cell_type": "code",
   "execution_count": 91,
   "metadata": {},
   "outputs": [
    {
     "name": "stdout",
     "output_type": "stream",
     "text": [
      "5050\n"
     ]
    }
   ],
   "source": [
    "# Reduce uses a function multiple times for 1 result\n",
    "v4 = reduce(+, 1:100)\n",
    "println(v4)"
   ]
  },
  {
   "cell_type": "code",
   "execution_count": 92,
   "metadata": {},
   "outputs": [
    {
     "name": "stdout",
     "output_type": "stream",
     "text": [
      "string\n"
     ]
    }
   ],
   "source": [
    "# Get longest word in a sentence\n",
    "sentence = \"This is a string\"\n",
    "# Convert string to array\n",
    "sArray = split(sentence)\n",
    "longest = reduce((x, y) -> length(x) > length(y) ? x : y, sArray )\n",
    "println(longest)"
   ]
  },
  {
   "cell_type": "raw",
   "metadata": {},
   "source": [
    "# ----- MATH -----"
   ]
  },
  {
   "cell_type": "code",
   "execution_count": 93,
   "metadata": {},
   "outputs": [
    {
     "name": "stdout",
     "output_type": "stream",
     "text": [
      "5 + 4 = 9\n",
      "5 - 4 = 1\n",
      "5 * 4 = 20\n",
      "5 / 4 = 1\n",
      "5 % 4 = 1\n",
      "5 ^ 4 = 625\n"
     ]
    }
   ],
   "source": [
    "@printf(\"5 + 4 = %d\\n\", (5 + 4))\n",
    "@printf(\"5 - 4 = %d\\n\", (5 - 4))\n",
    "@printf(\"5 * 4 = %d\\n\", (5 * 4))\n",
    "@printf(\"5 / 4 = %d\\n\", (5 / 4))\n",
    "println(\"5 % 4 = \", (5 % 4))\n",
    "@printf(\"5 ^ 4 = %d\\n\", (5 ^ 4))"
   ]
  },
  {
   "cell_type": "code",
   "execution_count": 94,
   "metadata": {},
   "outputs": [
    {
     "name": "stdout",
     "output_type": "stream",
     "text": [
      "round(3.5) = 4\n",
      "floor(3.5) = 3\n",
      "ceil(3.5) = 4\n",
      "abs(-3.5) = 4\n",
      "sqrt(100) = 10\n",
      "cbrt(100) = 5\n",
      "hypot(90,90) = 127\n",
      "exp(2) = 7\n",
      "log(100) = 5\n",
      "log2(100) = 7\n",
      "log10(100) = 2\n"
     ]
    }
   ],
   "source": [
    "@printf(\"round(3.5) = %d\\n\", round(3.5))\n",
    "@printf(\"floor(3.5) = %d\\n\", floor(3.5))\n",
    "@printf(\"ceil(3.5) = %d\\n\", round(3.5))\n",
    "@printf(\"abs(-3.5) = %d\\n\", abs(-3.5))\n",
    "@printf(\"sqrt(100) = %d\\n\", sqrt(100))\n",
    "@printf(\"cbrt(100) = %d\\n\", cbrt(100))\n",
    "@printf(\"hypot(90,90) = %d\\n\", hypot(90,90))\n",
    "@printf(\"exp(2) = %d\\n\", exp(2))\n",
    "@printf(\"log(100) = %d\\n\", log(100))\n",
    "@printf(\"log2(100) = %d\\n\", log2(100))\n",
    "@printf(\"log10(100) = %d\\n\", log10(100))"
   ]
  },
  {
   "cell_type": "raw",
   "metadata": {},
   "source": [
    "# Trig Functions : sin, cos, tan, cot, sec, csc\n",
    "# sinh, cosh, tanh, coth, sech, csch\n",
    "# asin, acos, atan, acot, asec, acsc\n",
    "# asinh, acosh, atanh, acoth, asech, acsch\n",
    "# sinc, cosc"
   ]
  },
  {
   "cell_type": "raw",
   "metadata": {},
   "source": [
    "# Shortcuts available += -= *= /= ^="
   ]
  },
  {
   "cell_type": "raw",
   "metadata": {},
   "source": [
    "# You can imply multiplication without *"
   ]
  },
  {
   "cell_type": "code",
   "execution_count": 95,
   "metadata": {},
   "outputs": [
    {
     "name": "stdout",
     "output_type": "stream",
     "text": [
      "10\n"
     ]
    }
   ],
   "source": [
    "x = 5\n",
    "println(2x)"
   ]
  },
  {
   "cell_type": "raw",
   "metadata": {},
   "source": [
    "# Dot operators perform operations on arrays"
   ]
  },
  {
   "cell_type": "code",
   "execution_count": 96,
   "metadata": {},
   "outputs": [
    {
     "name": "stdout",
     "output_type": "stream",
     "text": [
      "[3, 6, 9]\n"
     ]
    }
   ],
   "source": [
    "a13 = [1,2,3]\n",
    "println(a13 .* 3)"
   ]
  },
  {
   "cell_type": "raw",
   "metadata": {},
   "source": [
    "# ----- ENUMS -----"
   ]
  },
  {
   "cell_type": "code",
   "execution_count": 97,
   "metadata": {},
   "outputs": [],
   "source": [
    "@enum Color begin\n",
    "    red = 1\n",
    "    blue = 2\n",
    "    green = 3\n",
    "end"
   ]
  },
  {
   "cell_type": "code",
   "execution_count": 98,
   "metadata": {},
   "outputs": [
    {
     "name": "stdout",
     "output_type": "stream",
     "text": [
      "green\n"
     ]
    }
   ],
   "source": [
    "favColor = green::Color\n",
    "println(favColor)"
   ]
  },
  {
   "cell_type": "raw",
   "metadata": {},
   "source": [
    "# ----- SYMBOLS -----\n",
    "# Symbols are immutable (Unable to be changed without \n",
    "# exception.) strings that represent a variable as data"
   ]
  },
  {
   "cell_type": "code",
   "execution_count": 99,
   "metadata": {},
   "outputs": [
    {
     "name": "stdout",
     "output_type": "stream",
     "text": [
      "Derek\n"
     ]
    }
   ],
   "source": [
    ":Derek\n",
    "println(:Derek)"
   ]
  },
  {
   "cell_type": "raw",
   "metadata": {},
   "source": [
    "# They are commonly used as keys with dictionaries"
   ]
  },
  {
   "cell_type": "code",
   "execution_count": 100,
   "metadata": {},
   "outputs": [
    {
     "name": "stdout",
     "output_type": "stream",
     "text": [
      "3.14\n"
     ]
    }
   ],
   "source": [
    "d2 = Dict(:pi=>3.14, :e=>2.718)\n",
    "println(d2[:pi])"
   ]
  },
  {
   "cell_type": "raw",
   "metadata": {},
   "source": [
    "# ----- STRUCTS -----\n",
    "# Structs are composite types, or a type that contains\n",
    "# many fields\n",
    "\n",
    "# Structs by default are immutable\n",
    "# ERROR bob.name = \"Sue Smith\"\n",
    "# You could change that with mutable struct Customer"
   ]
  },
  {
   "cell_type": "code",
   "execution_count": 101,
   "metadata": {},
   "outputs": [],
   "source": [
    "struct Customer\n",
    "    name::String\n",
    "    balance::Float32\n",
    "    id::Int\n",
    "end"
   ]
  },
  {
   "cell_type": "code",
   "execution_count": 102,
   "metadata": {},
   "outputs": [
    {
     "name": "stdout",
     "output_type": "stream",
     "text": [
      "Bob Smith\n"
     ]
    }
   ],
   "source": [
    "# Create a Customer object\n",
    "bob = Customer(\"Bob Smith\", 10.50, 123)\n",
    "println(bob.name)"
   ]
  },
  {
   "cell_type": "raw",
   "metadata": {},
   "source": [
    "# ----- ABSTRACT TYPES -----\n",
    "# Abstract types can't be instantiated like Structs\n",
    "# but they can have subtypes"
   ]
  },
  {
   "cell_type": "code",
   "execution_count": 103,
   "metadata": {},
   "outputs": [],
   "source": [
    "abstract type Animal end"
   ]
  },
  {
   "cell_type": "code",
   "execution_count": 104,
   "metadata": {},
   "outputs": [],
   "source": [
    "struct Dog <: Animal\n",
    "    name::String\n",
    "    bark::String\n",
    "end"
   ]
  },
  {
   "cell_type": "code",
   "execution_count": 105,
   "metadata": {},
   "outputs": [],
   "source": [
    "struct Cat <: Animal\n",
    "    name::String\n",
    "    meow::String\n",
    "end"
   ]
  },
  {
   "cell_type": "code",
   "execution_count": 106,
   "metadata": {},
   "outputs": [
    {
     "data": {
      "text/plain": [
       "Cat(\"Muffin\", \"Meow\")"
      ]
     },
     "execution_count": 106,
     "metadata": {},
     "output_type": "execute_result"
    }
   ],
   "source": [
    "bowser = Dog(\"Bowser\", \"Ruff\")\n",
    "muffin = Cat(\"Muffin\", \"Meow\")"
   ]
  },
  {
   "cell_type": "code",
   "execution_count": 107,
   "metadata": {},
   "outputs": [
    {
     "data": {
      "text/plain": [
       "makeSound (generic function with 1 method)"
      ]
     },
     "execution_count": 107,
     "metadata": {},
     "output_type": "execute_result"
    }
   ],
   "source": [
    "function makeSound(animal::Dog)\n",
    "    println(\"$(animal.name) says $(animal.bark)\")\n",
    "end"
   ]
  },
  {
   "cell_type": "code",
   "execution_count": 108,
   "metadata": {},
   "outputs": [
    {
     "data": {
      "text/plain": [
       "makeSound (generic function with 2 methods)"
      ]
     },
     "execution_count": 108,
     "metadata": {},
     "output_type": "execute_result"
    }
   ],
   "source": [
    "function makeSound(animal::Cat)\n",
    "    println(\"$(animal.name) says $(animal.meow)\")\n",
    "end"
   ]
  },
  {
   "cell_type": "code",
   "execution_count": 109,
   "metadata": {},
   "outputs": [
    {
     "name": "stdout",
     "output_type": "stream",
     "text": [
      "Bowser says Ruff\n",
      "Muffin says Meow\n"
     ]
    }
   ],
   "source": [
    "makeSound(bowser)\n",
    "makeSound(muffin)"
   ]
  },
  {
   "cell_type": "raw",
   "metadata": {},
   "source": [
    "# ----- EXCEPTION HANDLING & USER INPUT -----\n",
    "# Throw and handle errors"
   ]
  },
  {
   "cell_type": "code",
   "execution_count": 110,
   "metadata": {},
   "outputs": [
    {
     "name": "stdout",
     "output_type": "stream",
     "text": [
      "Enter a number stdin> 5\n"
     ]
    },
    {
     "data": {
      "text/plain": [
       "\"5\""
      ]
     },
     "execution_count": 110,
     "metadata": {},
     "output_type": "execute_result"
    }
   ],
   "source": [
    "print(\"Enter a number \")\n",
    "num1 = chomp(readline())"
   ]
  },
  {
   "cell_type": "code",
   "execution_count": 111,
   "metadata": {},
   "outputs": [
    {
     "name": "stdout",
     "output_type": "stream",
     "text": [
      "Enter a number stdin> 8\n"
     ]
    },
    {
     "data": {
      "text/plain": [
       "\"8\""
      ]
     },
     "execution_count": 111,
     "metadata": {},
     "output_type": "execute_result"
    }
   ],
   "source": [
    "print(\"Enter a number \")\n",
    "num2 = chomp(readline())"
   ]
  },
  {
   "cell_type": "code",
   "execution_count": 112,
   "metadata": {},
   "outputs": [
    {
     "name": "stdout",
     "output_type": "stream",
     "text": [
      "0.625\n"
     ]
    }
   ],
   "source": [
    "try\n",
    "    val = (parse(Int32, num1)) / (parse(Int32, num2))\n",
    "    if (val == Inf)\n",
    "        error(\"Can't divide by zero\")\n",
    "    else\n",
    "        println(val)\n",
    "    end\n",
    "catch e\n",
    "    println(e)\n",
    "end"
   ]
  },
  {
   "cell_type": "raw",
   "metadata": {},
   "source": [
    "# ----- FILE IO -----"
   ]
  },
  {
   "cell_type": "code",
   "execution_count": 113,
   "metadata": {},
   "outputs": [
    {
     "data": {
      "text/plain": [
       "37"
      ]
     },
     "execution_count": 113,
     "metadata": {},
     "output_type": "execute_result"
    }
   ],
   "source": [
    "# Open file for writing\n",
    "open(\"random.txt\", \"w\") do file\n",
    "    write(file, \"Here is some random text\\nIt is great\\n\")\n",
    "end"
   ]
  },
  {
   "cell_type": "code",
   "execution_count": 114,
   "metadata": {},
   "outputs": [
    {
     "name": "stdout",
     "output_type": "stream",
     "text": [
      "Here is some random text\n",
      "It is great\n",
      "\n"
     ]
    }
   ],
   "source": [
    "# Open a file for reading\n",
    "open(\"random.txt\") do file\n",
    "    # Read whole file into a string\n",
    "    data = read(file, String)\n",
    "    println(data)\n",
    "end"
   ]
  },
  {
   "cell_type": "code",
   "execution_count": 115,
   "metadata": {},
   "outputs": [
    {
     "name": "stdout",
     "output_type": "stream",
     "text": [
      "Here is some random text\n",
      "It is great\n"
     ]
    }
   ],
   "source": [
    "open(\"random.txt\") do file\n",
    "    # Read each line 1 at a time\n",
    "    for line in eachline(file)\n",
    "        println(line)\n",
    "    end\n",
    "end"
   ]
  },
  {
   "cell_type": "raw",
   "metadata": {},
   "source": [
    "# ----- MACROS -----\n",
    "# Macros generate code before the program is run"
   ]
  },
  {
   "cell_type": "raw",
   "metadata": {},
   "source": [
    "# Execute passed code a certain number of times"
   ]
  },
  {
   "cell_type": "code",
   "execution_count": 116,
   "metadata": {},
   "outputs": [
    {
     "data": {
      "text/plain": [
       "@doMore (macro with 1 method)"
      ]
     },
     "execution_count": 116,
     "metadata": {},
     "output_type": "execute_result"
    }
   ],
   "source": [
    "macro doMore(n, exp)\n",
    "  quote\n",
    "\n",
    "      # esc hides what it contains until everything\n",
    "      # is ready to be executed\n",
    "    for i = 1:$(esc(n))\n",
    "      $(esc(exp))\n",
    "    end\n",
    "  end\n",
    "end"
   ]
  },
  {
   "cell_type": "code",
   "execution_count": 117,
   "metadata": {},
   "outputs": [
    {
     "name": "stdout",
     "output_type": "stream",
     "text": [
      "Hello\n",
      "Hello\n"
     ]
    }
   ],
   "source": [
    "@doMore(2, println(\"Hello\"))"
   ]
  },
  {
   "cell_type": "raw",
   "metadata": {},
   "source": [
    "# Create a do while loop"
   ]
  },
  {
   "cell_type": "code",
   "execution_count": 118,
   "metadata": {},
   "outputs": [
    {
     "data": {
      "text/plain": [
       "@doWhile (macro with 1 method)"
      ]
     },
     "execution_count": 118,
     "metadata": {},
     "output_type": "execute_result"
    }
   ],
   "source": [
    "macro doWhile(exp)\n",
    "    # Assert that while is the first element passed\n",
    "  @assert exp.head == :while\n",
    "\n",
    "  # quote is the same as begin ... end\n",
    "  esc(quote\n",
    "\n",
    "  # Contains the body of the loop\n",
    "    $(exp.args[2])\n",
    "    $exp\n",
    "  end)\n",
    "end"
   ]
  },
  {
   "cell_type": "code",
   "execution_count": 119,
   "metadata": {},
   "outputs": [
    {
     "name": "stdout",
     "output_type": "stream",
     "text": [
      "1\n",
      "2\n",
      "3\n",
      "4\n",
      "5\n",
      "6\n",
      "7\n",
      "8\n",
      "9\n",
      "10\n"
     ]
    }
   ],
   "source": [
    "z = 0\n",
    "@doWhile while z < 10\n",
    "    global z += 1\n",
    "    println(z)\n",
    "end"
   ]
  },
  {
   "cell_type": "markdown",
   "metadata": {},
   "source": [
    "###### "
   ]
  }
 ],
 "metadata": {
  "kernelspec": {
   "display_name": "Julia 1.0.5",
   "language": "julia",
   "name": "julia-1.0"
  },
  "language_info": {
   "file_extension": ".jl",
   "mimetype": "application/julia",
   "name": "julia",
   "version": "1.0.5"
  }
 },
 "nbformat": 4,
 "nbformat_minor": 4
}
